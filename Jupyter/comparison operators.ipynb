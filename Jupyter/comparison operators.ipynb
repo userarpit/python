{
 "cells": [
  {
   "cell_type": "code",
   "execution_count": 9,
   "id": "d3fa6494",
   "metadata": {},
   "outputs": [
    {
     "data": {
      "text/plain": [
       "True"
      ]
     },
     "execution_count": 9,
     "metadata": {},
     "output_type": "execute_result"
    }
   ],
   "source": [
    ".1 + .1 == .2"
   ]
  },
  {
   "cell_type": "code",
   "execution_count": 15,
   "id": "25ecc943",
   "metadata": {},
   "outputs": [
    {
     "data": {
      "text/plain": [
       "0.307"
      ]
     },
     "execution_count": 15,
     "metadata": {},
     "output_type": "execute_result"
    }
   ],
   "source": [
    "round(.178555+.1281928375,3)"
   ]
  },
  {
   "cell_type": "code",
   "execution_count": 16,
   "id": "a5d78f90",
   "metadata": {},
   "outputs": [
    {
     "name": "stdout",
     "output_type": "stream",
     "text": [
      "False\n"
     ]
    }
   ],
   "source": [
    "first_number = 4\n",
    "second_number = 5\n",
    "\n",
    "print(first_number == second_number)"
   ]
  },
  {
   "cell_type": "code",
   "execution_count": 17,
   "id": "0b1518d3",
   "metadata": {},
   "outputs": [
    {
     "name": "stdout",
     "output_type": "stream",
     "text": [
      "True\n"
     ]
    }
   ],
   "source": [
    "first_number = 4\n",
    "second_number = 5\n",
    "\n",
    "print(first_number != second_number)"
   ]
  },
  {
   "cell_type": "code",
   "execution_count": 18,
   "id": "5387ed5f",
   "metadata": {},
   "outputs": [
    {
     "name": "stdout",
     "output_type": "stream",
     "text": [
      "True\n"
     ]
    }
   ],
   "source": [
    "first_number = 4\n",
    "second_number = 5\n",
    "\n",
    "print(first_number < second_number)"
   ]
  },
  {
   "cell_type": "code",
   "execution_count": 19,
   "id": "b69ca241",
   "metadata": {},
   "outputs": [
    {
     "name": "stdout",
     "output_type": "stream",
     "text": [
      "True\n"
     ]
    }
   ],
   "source": [
    "first_number = 4\n",
    "second_number = 5\n",
    "\n",
    "print(first_number <= second_number)"
   ]
  },
  {
   "cell_type": "code",
   "execution_count": 20,
   "id": "93907b00",
   "metadata": {},
   "outputs": [
    {
     "name": "stdout",
     "output_type": "stream",
     "text": [
      "False\n"
     ]
    }
   ],
   "source": [
    "first_number = 4\n",
    "second_number = 5\n",
    "\n",
    "print(first_number > second_number)"
   ]
  },
  {
   "cell_type": "code",
   "execution_count": 22,
   "id": "8c5abb1d",
   "metadata": {},
   "outputs": [
    {
     "name": "stdout",
     "output_type": "stream",
     "text": [
      "True\n"
     ]
    }
   ],
   "source": [
    "first_number = 5\n",
    "second_number = 5\n",
    "\n",
    "print(first_number >= second_number)"
   ]
  },
  {
   "cell_type": "code",
   "execution_count": 23,
   "id": "bd91be1b",
   "metadata": {},
   "outputs": [
    {
     "name": "stdout",
     "output_type": "stream",
     "text": [
      "True\n"
     ]
    }
   ],
   "source": [
    "first_number = 2\n",
    "second_number = 5.2\n",
    "\n",
    "print((first_number + 3.2) == second_number)"
   ]
  },
  {
   "cell_type": "code",
   "execution_count": 24,
   "id": "bd191891",
   "metadata": {},
   "outputs": [
    {
     "name": "stdout",
     "output_type": "stream",
     "text": [
      "False\n"
     ]
    }
   ],
   "source": [
    "first_number = 2\n",
    "second_number = 5.2\n",
    "\n",
    "print((2.1 + 3.2) == 5.3)"
   ]
  },
  {
   "cell_type": "code",
   "execution_count": null,
   "id": "f354cd55",
   "metadata": {},
   "outputs": [],
   "source": []
  }
 ],
 "metadata": {
  "kernelspec": {
   "display_name": "Python 3 (ipykernel)",
   "language": "python",
   "name": "python3"
  },
  "language_info": {
   "codemirror_mode": {
    "name": "ipython",
    "version": 3
   },
   "file_extension": ".py",
   "mimetype": "text/x-python",
   "name": "python",
   "nbconvert_exporter": "python",
   "pygments_lexer": "ipython3",
   "version": "3.9.13"
  }
 },
 "nbformat": 4,
 "nbformat_minor": 5
}
