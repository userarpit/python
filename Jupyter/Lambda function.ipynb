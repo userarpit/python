{
 "cells": [
  {
   "cell_type": "code",
   "execution_count": 2,
   "id": "39cf4cf8",
   "metadata": {},
   "outputs": [
    {
     "name": "stdout",
     "output_type": "stream",
     "text": [
      "5\n",
      "1\n",
      "6\n",
      "1.5\n"
     ]
    }
   ],
   "source": [
    "add = lambda x,y : x + y\n",
    "sub = lambda x,y : x - y\n",
    "mul = lambda x,y : x * y\n",
    "div = lambda x,y : x / y\n",
    "print(add(3,2))\n",
    "print(sub(3,2))\n",
    "print(mul(3,2))\n",
    "print(div(3,2))"
   ]
  },
  {
   "cell_type": "code",
   "execution_count": 4,
   "id": "8677b232",
   "metadata": {},
   "outputs": [
    {
     "name": "stdout",
     "output_type": "stream",
     "text": [
      "<function <lambda> at 0x000001FF4E66D550>\n"
     ]
    }
   ],
   "source": [
    "add = lambda x,y : x + y\n",
    "sub = lambda x,y : x - y\n",
    "mul = lambda x,y : x * y\n",
    "div = lambda x,y : x / y\n",
    "print(add)\n"
   ]
  }
 ],
 "metadata": {
  "kernelspec": {
   "display_name": "Python 3 (ipykernel)",
   "language": "python",
   "name": "python3"
  },
  "language_info": {
   "codemirror_mode": {
    "name": "ipython",
    "version": 3
   },
   "file_extension": ".py",
   "mimetype": "text/x-python",
   "name": "python",
   "nbconvert_exporter": "python",
   "pygments_lexer": "ipython3",
   "version": "3.9.13"
  }
 },
 "nbformat": 4,
 "nbformat_minor": 5
}
