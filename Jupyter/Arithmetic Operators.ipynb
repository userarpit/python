{
 "cells": [
  {
   "cell_type": "code",
   "execution_count": 2,
   "id": "d732089d",
   "metadata": {},
   "outputs": [
    {
     "name": "stdout",
     "output_type": "stream",
     "text": [
      "7.2\n",
      "<class 'float'>\n"
     ]
    }
   ],
   "source": [
    "first_num = 3\n",
    "second_num = 4.2\n",
    "\n",
    "# add\n",
    "\n",
    "result_add = first_num + second_num\n",
    "\n",
    "print(result_add)\n",
    "print(type(result_add))"
   ]
  },
  {
   "cell_type": "code",
   "execution_count": 2,
   "id": "ca513a09",
   "metadata": {},
   "outputs": [
    {
     "name": "stdout",
     "output_type": "stream",
     "text": [
      "0.6976744186046512\n",
      "<class 'float'>\n"
     ]
    }
   ],
   "source": [
    "first_num = 3\n",
    "second_num = 4.3\n",
    "\n",
    "# division\n",
    "\n",
    "result_add = first_num / second_num\n",
    "\n",
    "print(result_add)\n",
    "print(type(result_add))"
   ]
  },
  {
   "cell_type": "code",
   "execution_count": 6,
   "id": "a392241a",
   "metadata": {},
   "outputs": [
    {
     "name": "stdout",
     "output_type": "stream",
     "text": [
      "12.899999999999999\n",
      "<class 'float'>\n"
     ]
    }
   ],
   "source": [
    "first_num = 3\n",
    "second_num = 4.3\n",
    "\n",
    "# multiply\n",
    "\n",
    "result_add = first_num * second_num\n",
    "\n",
    "print(result_add)\n",
    "print(type(result_add))\n"
   ]
  },
  {
   "cell_type": "code",
   "execution_count": 3,
   "id": "f16b8448",
   "metadata": {},
   "outputs": [
    {
     "ename": "ModuleNotFoundError",
     "evalue": "No module named 'sklearn'",
     "output_type": "error",
     "traceback": [
      "\u001b[1;31m---------------------------------------------------------------------------\u001b[0m",
      "\u001b[1;31mModuleNotFoundError\u001b[0m                       Traceback (most recent call last)",
      "\u001b[1;32mc:\\Users\\HP\\Desktop\\Arpit\\Python\\Jupyter\\Arithmetic Operators.ipynb Cell 4\u001b[0m line \u001b[0;36m3\n\u001b[0;32m      <a href='vscode-notebook-cell:/c%3A/Users/HP/Desktop/Arpit/Python/Jupyter/Arithmetic%20Operators.ipynb#X11sZmlsZQ%3D%3D?line=0'>1</a>\u001b[0m \u001b[39mimport\u001b[39;00m \u001b[39mnumpy\u001b[39;00m \u001b[39mas\u001b[39;00m \u001b[39mnp\u001b[39;00m\n\u001b[0;32m      <a href='vscode-notebook-cell:/c%3A/Users/HP/Desktop/Arpit/Python/Jupyter/Arithmetic%20Operators.ipynb#X11sZmlsZQ%3D%3D?line=1'>2</a>\u001b[0m \u001b[39mimport\u001b[39;00m \u001b[39mmatplotlib\u001b[39;00m\u001b[39m.\u001b[39;00m\u001b[39mpyplot\u001b[39;00m \u001b[39mas\u001b[39;00m \u001b[39mplt\u001b[39;00m\n\u001b[1;32m----> <a href='vscode-notebook-cell:/c%3A/Users/HP/Desktop/Arpit/Python/Jupyter/Arithmetic%20Operators.ipynb#X11sZmlsZQ%3D%3D?line=2'>3</a>\u001b[0m \u001b[39mfrom\u001b[39;00m \u001b[39msklearn\u001b[39;00m\u001b[39m.\u001b[39;00m\u001b[39mcluster\u001b[39;00m \u001b[39mimport\u001b[39;00m KMeans\n\u001b[0;32m      <a href='vscode-notebook-cell:/c%3A/Users/HP/Desktop/Arpit/Python/Jupyter/Arithmetic%20Operators.ipynb#X11sZmlsZQ%3D%3D?line=4'>5</a>\u001b[0m X \u001b[39m=\u001b[39m \u001b[39m-\u001b[39m\u001b[39m2\u001b[39m \u001b[39m*\u001b[39m np\u001b[39m.\u001b[39mrandom\u001b[39m.\u001b[39mrand(\u001b[39m100\u001b[39m, \u001b[39m2\u001b[39m)\n\u001b[0;32m      <a href='vscode-notebook-cell:/c%3A/Users/HP/Desktop/Arpit/Python/Jupyter/Arithmetic%20Operators.ipynb#X11sZmlsZQ%3D%3D?line=5'>6</a>\u001b[0m X1 \u001b[39m=\u001b[39m \u001b[39m1\u001b[39m \u001b[39m+\u001b[39m \u001b[39m2\u001b[39m \u001b[39m*\u001b[39m np\u001b[39m.\u001b[39mrandom\u001b[39m.\u001b[39mrand(\u001b[39m50\u001b[39m, \u001b[39m2\u001b[39m)\n",
      "\u001b[1;31mModuleNotFoundError\u001b[0m: No module named 'sklearn'"
     ]
    }
   ],
   "source": [
    "import numpy as np\n",
    "import matplotlib.pyplot as plt\n",
    "from sklearn.cluster import KMeans\n",
    "\n",
    "X = -2 * np.random.rand(100, 2)\n",
    "X1 = 1 + 2 * np.random.rand(50, 2)\n",
    "print(X)\n",
    "print(X1)\n",
    "X[50:100, :] = X1\n",
    "print(X)\n",
    "\n",
    "Kmean1 = KMeans(n_clusters=2)\n",
    "Kmean1.fit(X)\n",
    "\n",
    "Kmean1_centers = Kmean1.cluster_centers_\n",
    "print(Kmean1_centers)\n",
    "plt.scatter(X[:, 0], X[:, 1], c='b')\n",
    "plt.scatter(Kmean1_centers[0][0],Kmean1_centers[0][1],c='g',marker = 's',s=200)\n",
    "plt.scatter(Kmean1_centers[1][0],Kmean1_centers[1][1],c='r',marker = 's',s=200)\n",
    "\n",
    "print(Kmean1.labels_)\n",
    "sample_test = np.array([-1.0,3.0])\n",
    "second_test = sample_test.reshape(1,-1)\n",
    "print(sample_test.shape)\n",
    "print(second_test)\n",
    "print(Kmean1.predict(second_test))\n",
    "plt.scatter(second_test[0][0],second_test[0][1],c='b')\n",
    "plt.show()"
   ]
  },
  {
   "cell_type": "code",
   "execution_count": null,
   "id": "206e5b12",
   "metadata": {},
   "outputs": [],
   "source": []
  },
  {
   "cell_type": "code",
   "execution_count": 3,
   "id": "feef80dc",
   "metadata": {},
   "outputs": [
    {
     "name": "stdout",
     "output_type": "stream",
     "text": [
      "-1.2999999999999998\n",
      "<class 'float'>\n",
      "0b11\n"
     ]
    }
   ],
   "source": [
    "first_num = 3\n",
    "second_num = 4.3\n",
    "\n",
    "# subtraction\n",
    "\n",
    "result_add = first_num - second_num\n",
    "\n",
    "print(result_add)\n",
    "print(type(result_add))\n",
    "print(bin(3))"
   ]
  },
  {
   "cell_type": "code",
   "execution_count": 10,
   "id": "db028fa5",
   "metadata": {},
   "outputs": [
    {
     "name": "stdout",
     "output_type": "stream",
     "text": [
      "2.0\n",
      "<class 'float'>\n"
     ]
    }
   ],
   "source": [
    "first_num = 12\n",
    "second_num = 5.0\n",
    "\n",
    "# remainder\n",
    "\n",
    "result_add = first_num % second_num\n",
    "\n",
    "print(result_add)\n",
    "print(type(result_add))\n"
   ]
  },
  {
   "cell_type": "code",
   "execution_count": 14,
   "id": "a6e94a07",
   "metadata": {},
   "outputs": [
    {
     "name": "stdout",
     "output_type": "stream",
     "text": [
      "2\n",
      "<class 'int'>\n"
     ]
    }
   ],
   "source": [
    "first_num = 7\n",
    "second_num = 3\n",
    "\n",
    "# division floor\n",
    "\n",
    "result_add = first_num // second_num\n",
    "\n",
    "print(result_add)\n",
    "print(type(result_add))\n"
   ]
  },
  {
   "cell_type": "code",
   "execution_count": 16,
   "id": "9055f896",
   "metadata": {},
   "outputs": [
    {
     "name": "stdout",
     "output_type": "stream",
     "text": [
      "64\n",
      "<class 'int'>\n"
     ]
    }
   ],
   "source": [
    "first_num = 8\n",
    "second_num = 2\n",
    "\n",
    "# exponent\n",
    "result_add = first_num ** second_num\n",
    "\n",
    "print(result_add)\n",
    "print(type(result_add))\n"
   ]
  },
  {
   "cell_type": "code",
   "execution_count": null,
   "id": "f050b6b9",
   "metadata": {},
   "outputs": [],
   "source": []
  }
 ],
 "metadata": {
  "kernelspec": {
   "display_name": "Python 3.9.13 ('base')",
   "language": "python",
   "name": "python3"
  },
  "language_info": {
   "codemirror_mode": {
    "name": "ipython",
    "version": 3
   },
   "file_extension": ".py",
   "mimetype": "text/x-python",
   "name": "python",
   "nbconvert_exporter": "python",
   "pygments_lexer": "ipython3",
   "version": "3.11.5"
  },
  "vscode": {
   "interpreter": {
    "hash": "dc07d24e2f18896857f0b2a651fe84ba40ce7b297e58d8804a308c8039f752a6"
   }
  }
 },
 "nbformat": 4,
 "nbformat_minor": 5
}
