{
 "cells": [
  {
   "cell_type": "code",
   "execution_count": 1,
   "id": "274ed4ed",
   "metadata": {},
   "outputs": [
    {
     "name": "stdout",
     "output_type": "stream",
     "text": [
      "1\n",
      "2\n",
      "3\n",
      "stop\n",
      "the code will stopped\n"
     ]
    }
   ],
   "source": [
    "my_list = [ 1, 2 , 3 , \"stop\" , 5 , \"stop\" , 4.1 ]\n",
    "\n",
    "for i in my_list:\n",
    "    print(i)\n",
    "    if i == \"stop\":\n",
    "        print(\"the code will stopped\")\n",
    "        break"
   ]
  },
  {
   "cell_type": "code",
   "execution_count": 3,
   "id": "e39eb752",
   "metadata": {},
   "outputs": [
    {
     "name": "stdout",
     "output_type": "stream",
     "text": [
      "1\n",
      "2\n",
      "3\n",
      "stop\n",
      "the loop will stopped\n",
      "This is the outside of the loop\n"
     ]
    }
   ],
   "source": [
    "my_list = [ 1, 2 , 3 , \"stop\" , 5 , \"stop\" , 4.1 ]\n",
    "\n",
    "for i in my_list:\n",
    "    print(i)\n",
    "    if i == \"stop\":\n",
    "        print(\"the loop will stopped\")\n",
    "        break\n",
    "print(\"This is the outside of the loop\")"
   ]
  },
  {
   "cell_type": "code",
   "execution_count": 4,
   "id": "bd2685ca",
   "metadata": {},
   "outputs": [
    {
     "name": "stdout",
     "output_type": "stream",
     "text": [
      "1\n",
      "1\n",
      "2\n",
      "3\n",
      "stop\n",
      "the loop will stopped\n",
      "2\n",
      "1\n",
      "2\n",
      "3\n",
      "stop\n",
      "the loop will stopped\n",
      "3\n",
      "1\n",
      "2\n",
      "3\n",
      "stop\n",
      "the loop will stopped\n",
      "stop\n",
      "1\n",
      "2\n",
      "3\n",
      "stop\n",
      "the loop will stopped\n",
      "5\n",
      "1\n",
      "2\n",
      "3\n",
      "stop\n",
      "the loop will stopped\n",
      "stop\n",
      "1\n",
      "2\n",
      "3\n",
      "stop\n",
      "the loop will stopped\n",
      "4.1\n",
      "1\n",
      "2\n",
      "3\n",
      "stop\n",
      "the loop will stopped\n",
      "This is the outside of the loop\n"
     ]
    }
   ],
   "source": [
    "my_list = [ 1, 2 , 3 , \"stop\" , 5 , \"stop\" , 4.1 ]\n",
    "\n",
    "for i in my_list:\n",
    "    print(i)\n",
    "    for i in my_list:\n",
    "        print(i)\n",
    "        if i == \"stop\":\n",
    "            print(\"the loop will stopped\")\n",
    "            break\n",
    "print(\"This is the outside of the loop\")"
   ]
  },
  {
   "cell_type": "code",
   "execution_count": 5,
   "id": "51694858",
   "metadata": {},
   "outputs": [
    {
     "name": "stdout",
     "output_type": "stream",
     "text": [
      "1\n",
      "2\n",
      "3\n",
      "stop\n",
      "the loop will stop\n"
     ]
    }
   ],
   "source": [
    "index = 0\n",
    "while index < len(my_list):\n",
    "    current_element = my_list[index]\n",
    "    print(current_element)\n",
    "    if current_element == \"stop\":\n",
    "        print(\"the loop will stop\")\n",
    "        break\n",
    "    index += 1\n",
    "    \n",
    "        \n"
   ]
  },
  {
   "cell_type": "code",
   "execution_count": null,
   "id": "41ea8b34",
   "metadata": {},
   "outputs": [],
   "source": []
  }
 ],
 "metadata": {
  "kernelspec": {
   "display_name": "Python 3 (ipykernel)",
   "language": "python",
   "name": "python3"
  },
  "language_info": {
   "codemirror_mode": {
    "name": "ipython",
    "version": 3
   },
   "file_extension": ".py",
   "mimetype": "text/x-python",
   "name": "python",
   "nbconvert_exporter": "python",
   "pygments_lexer": "ipython3",
   "version": "3.9.13"
  }
 },
 "nbformat": 4,
 "nbformat_minor": 5
}
