{
 "cells": [
  {
   "cell_type": "code",
   "execution_count": 10,
   "id": "cda466d9",
   "metadata": {},
   "outputs": [
    {
     "name": "stdout",
     "output_type": "stream",
     "text": [
      "[5, 2, 1]\n"
     ]
    }
   ],
   "source": [
    "def reverse_normal(data):\n",
    "    reverse_list = []\n",
    "    for i in range(len(data) - 1, -1, -1):\n",
    "        reverse_list.append(my_list[i])\n",
    "    return reverse_list    \n",
    "\n",
    "my_list = [1,2,5]\n",
    "reverse_list_normal = reverse_normal(my_list)\n",
    "print(reverse_list_normal)"
   ]
  },
  {
   "cell_type": "code",
   "execution_count": 20,
   "id": "646261c9",
   "metadata": {},
   "outputs": [
    {
     "name": "stdout",
     "output_type": "stream",
     "text": [
      "<generator object reverse_generator at 0x000001E93B48CA50>\n",
      "5\n",
      "2\n",
      "1\n"
     ]
    }
   ],
   "source": [
    "def reverse_generator(data):\n",
    "    for i in range(len(data) - 1, -1, -1):\n",
    "        yield data[i]\n",
    "\n",
    "my_list = [1,2,5]\n",
    "reverse_list_generator = reverse_generator(my_list)\n",
    "print(reverse_list_generator)\n",
    "\n",
    "for i in reverse_list_generator:\n",
    "    print(i)"
   ]
  },
  {
   "cell_type": "code",
   "execution_count": 19,
   "id": "62f61d95",
   "metadata": {},
   "outputs": [
    {
     "data": {
      "text/plain": [
       "1"
      ]
     },
     "execution_count": 19,
     "metadata": {},
     "output_type": "execute_result"
    }
   ],
   "source": [
    "next(reverse_list_generator)\n",
    "next(reverse_list_generator)\n",
    "next(reverse_list_generator)"
   ]
  },
  {
   "cell_type": "code",
   "execution_count": 23,
   "id": "46924453",
   "metadata": {},
   "outputs": [
    {
     "name": "stdout",
     "output_type": "stream",
     "text": [
      "Wall time: 1.94 s\n"
     ]
    }
   ],
   "source": [
    "def reverse_normal(data):\n",
    "    reverse_list = []\n",
    "    for i in range(len(data) - 1, -1, -1):\n",
    "        reverse_list.append(my_list[i])\n",
    "    return reverse_list    \n",
    "\n",
    "my_list = list(range(10000000))\n",
    "%time reverse_list_normal = reverse_normal(my_list)\n"
   ]
  },
  {
   "cell_type": "code",
   "execution_count": 25,
   "id": "b4094c89",
   "metadata": {},
   "outputs": [
    {
     "name": "stdout",
     "output_type": "stream",
     "text": [
      "Wall time: 205 ms\n"
     ]
    }
   ],
   "source": [
    "def reverse_generator(data):\n",
    "    for i in range(len(data) - 1, -1, -1):\n",
    "        yield data[i]\n",
    "\n",
    "my_list = list(range(10000000))\n",
    "%time reverse_list_generator = reverse_generator(my_list)"
   ]
  }
 ],
 "metadata": {
  "kernelspec": {
   "display_name": "Python 3 (ipykernel)",
   "language": "python",
   "name": "python3"
  },
  "language_info": {
   "codemirror_mode": {
    "name": "ipython",
    "version": 3
   },
   "file_extension": ".py",
   "mimetype": "text/x-python",
   "name": "python",
   "nbconvert_exporter": "python",
   "pygments_lexer": "ipython3",
   "version": "3.9.13"
  }
 },
 "nbformat": 4,
 "nbformat_minor": 5
}
