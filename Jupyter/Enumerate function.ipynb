{
 "cells": [
  {
   "cell_type": "code",
   "execution_count": 2,
   "id": "f9632dc0",
   "metadata": {},
   "outputs": [
    {
     "name": "stdout",
     "output_type": "stream",
     "text": [
      "0 1\n",
      "1 2\n",
      "2 S\n",
      "3 3.42\n"
     ]
    }
   ],
   "source": [
    "my_list = [1,2,\"S\",3.42]\n",
    "\n",
    "for counter,current_element in enumerate(my_list): #enumerate takes one iterable only\n",
    "    print(counter,current_element)"
   ]
  },
  {
   "cell_type": "code",
   "execution_count": 3,
   "id": "e6ef31e3",
   "metadata": {},
   "outputs": [
    {
     "name": "stdout",
     "output_type": "stream",
     "text": [
      "[(0, 1), (1, 2), (2, 'S'), (3, 3.42)]\n"
     ]
    }
   ],
   "source": [
    "my_list = [1,2,\"S\",3.42]\n",
    "\n",
    "print(list(enumerate(my_list)))"
   ]
  },
  {
   "cell_type": "code",
   "execution_count": 8,
   "id": "40d24bdd",
   "metadata": {},
   "outputs": [
    {
     "name": "stdout",
     "output_type": "stream",
     "text": [
      "(0, 1)\n",
      "(1, 2)\n",
      "(2, 'S')\n",
      "(3, 3.42)\n"
     ]
    }
   ],
   "source": [
    "my_list = [1,2,\"S\",3.42]\n",
    "\n",
    "print(list(enumerate(my_list))[0])\n",
    "print(list(enumerate(my_list))[1])\n",
    "print(list(enumerate(my_list))[2])\n",
    "print(list(enumerate(my_list))[3])"
   ]
  },
  {
   "cell_type": "code",
   "execution_count": null,
   "id": "9b862d2b",
   "metadata": {},
   "outputs": [],
   "source": []
  }
 ],
 "metadata": {
  "kernelspec": {
   "display_name": "Python 3 (ipykernel)",
   "language": "python",
   "name": "python3"
  },
  "language_info": {
   "codemirror_mode": {
    "name": "ipython",
    "version": 3
   },
   "file_extension": ".py",
   "mimetype": "text/x-python",
   "name": "python",
   "nbconvert_exporter": "python",
   "pygments_lexer": "ipython3",
   "version": "3.9.13"
  }
 },
 "nbformat": 4,
 "nbformat_minor": 5
}
