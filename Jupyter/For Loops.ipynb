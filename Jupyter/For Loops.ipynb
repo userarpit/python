{
 "cells": [
  {
   "cell_type": "code",
   "execution_count": 4,
   "id": "33343f9f",
   "metadata": {},
   "outputs": [
    {
     "name": "stdout",
     "output_type": "stream",
     "text": [
      "1\n",
      "2\n",
      "3\n",
      "ahmed\n",
      "4.5\n",
      "True\n",
      "Done\n"
     ]
    }
   ],
   "source": [
    "my_list = [1,2,3,\"ahmed\",4.5,True]\n",
    "\n",
    "for element in my_list:\n",
    "    print(element)\n",
    "\n",
    "print(\"Done\")"
   ]
  },
  {
   "cell_type": "code",
   "execution_count": 5,
   "id": "56e8c2fe",
   "metadata": {},
   "outputs": [
    {
     "name": "stdout",
     "output_type": "stream",
     "text": [
      "0\n",
      "1\n",
      "2\n",
      "3\n",
      "4\n",
      "5\n",
      "6\n",
      "7\n",
      "8\n",
      "9\n",
      "Done\n"
     ]
    }
   ],
   "source": [
    "my_list = [1,2,3,\"ahmed\",4.5,True]\n",
    "\n",
    "for element in range(10):\n",
    "    print(element)\n",
    "\n",
    "print(\"Done\")"
   ]
  },
  {
   "cell_type": "code",
   "execution_count": 7,
   "id": "6a75b4d9",
   "metadata": {},
   "outputs": [
    {
     "name": "stdout",
     "output_type": "stream",
     "text": [
      "1\n",
      "3\n",
      "5\n",
      "7\n",
      "9\n",
      "Done\n"
     ]
    }
   ],
   "source": [
    "my_list = [1,2,3,\"ahmed\",4.5,True]\n",
    "\n",
    "for element in range(1,10,2):\n",
    "    print(element)\n",
    "\n",
    "print(\"Done\")"
   ]
  },
  {
   "cell_type": "code",
   "execution_count": null,
   "id": "16c190ba",
   "metadata": {},
   "outputs": [],
   "source": []
  }
 ],
 "metadata": {
  "kernelspec": {
   "display_name": "Python 3 (ipykernel)",
   "language": "python",
   "name": "python3"
  },
  "language_info": {
   "codemirror_mode": {
    "name": "ipython",
    "version": 3
   },
   "file_extension": ".py",
   "mimetype": "text/x-python",
   "name": "python",
   "nbconvert_exporter": "python",
   "pygments_lexer": "ipython3",
   "version": "3.9.13"
  }
 },
 "nbformat": 4,
 "nbformat_minor": 5
}
