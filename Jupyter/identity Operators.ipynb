{
 "cells": [
  {
   "cell_type": "code",
   "execution_count": 1,
   "id": "fac9c6c0",
   "metadata": {},
   "outputs": [
    {
     "name": "stdout",
     "output_type": "stream",
     "text": [
      "True\n"
     ]
    }
   ],
   "source": [
    "x = 1000\n",
    "y=1000\n",
    "print(x == y) #equality compare values\n"
   ]
  },
  {
   "cell_type": "code",
   "execution_count": 2,
   "id": "4978fc5e",
   "metadata": {},
   "outputs": [
    {
     "name": "stdout",
     "output_type": "stream",
     "text": [
      "False\n"
     ]
    }
   ],
   "source": [
    "x = 1000\n",
    "y=1000\n",
    "print(x is y) #identity compare variables (memory address)\n"
   ]
  },
  {
   "cell_type": "code",
   "execution_count": 6,
   "id": "986c2c99",
   "metadata": {},
   "outputs": [
    {
     "name": "stdout",
     "output_type": "stream",
     "text": [
      "2606099871568\n",
      "2606099873712\n"
     ]
    }
   ],
   "source": [
    "print(id(x))\n",
    "print(id(y))"
   ]
  },
  {
   "cell_type": "code",
   "execution_count": 7,
   "id": "d39eb949",
   "metadata": {},
   "outputs": [
    {
     "name": "stdout",
     "output_type": "stream",
     "text": [
      "True\n"
     ]
    }
   ],
   "source": [
    "x = 10\n",
    "y = 10\n",
    "print (x is y)"
   ]
  },
  {
   "cell_type": "code",
   "execution_count": 8,
   "id": "fc4cc02b",
   "metadata": {},
   "outputs": [
    {
     "name": "stdout",
     "output_type": "stream",
     "text": [
      "2606016522832\n",
      "2606016522832\n"
     ]
    }
   ],
   "source": [
    "x = 10\n",
    "y = 10\n",
    "print (id(x)) # -5 and 256 values are assigned same memory location\n",
    "print (id(y))"
   ]
  },
  {
   "cell_type": "code",
   "execution_count": null,
   "id": "f2161289",
   "metadata": {},
   "outputs": [],
   "source": []
  }
 ],
 "metadata": {
  "kernelspec": {
   "display_name": "Python 3 (ipykernel)",
   "language": "python",
   "name": "python3"
  },
  "language_info": {
   "codemirror_mode": {
    "name": "ipython",
    "version": 3
   },
   "file_extension": ".py",
   "mimetype": "text/x-python",
   "name": "python",
   "nbconvert_exporter": "python",
   "pygments_lexer": "ipython3",
   "version": "3.9.13"
  }
 },
 "nbformat": 4,
 "nbformat_minor": 5
}
