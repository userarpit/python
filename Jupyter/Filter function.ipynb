{
 "cells": [
  {
   "cell_type": "code",
   "execution_count": 2,
   "id": "7fd2a02d",
   "metadata": {},
   "outputs": [
    {
     "data": {
      "text/plain": [
       "[50, 70, 99]"
      ]
     },
     "execution_count": 2,
     "metadata": {},
     "output_type": "execute_result"
    }
   ],
   "source": [
    "def pass_grade_normal(list_grades):\n",
    "    pass_grade_list = []\n",
    "    for current_grade in list_grades:\n",
    "        if current_grade >= 50:\n",
    "            pass_grade_list.append(current_grade)\n",
    "    \n",
    "    return pass_grade_list\n",
    "        \n",
    "my_list = [20,50,30,70,99]\n",
    "list(pass_grade_normal(my_list))\n"
   ]
  },
  {
   "cell_type": "code",
   "execution_count": 11,
   "id": "e5d5fefa",
   "metadata": {},
   "outputs": [
    {
     "name": "stdout",
     "output_type": "stream",
     "text": [
      "Wall time: 0 ns\n"
     ]
    },
    {
     "data": {
      "text/plain": [
       "[70, 99]"
      ]
     },
     "execution_count": 11,
     "metadata": {},
     "output_type": "execute_result"
    }
   ],
   "source": [
    "def pass_grade_filter(grade):\n",
    "    return grade > 50\n",
    "\n",
    "my_list = my_list = [20,50,30,70,99]\n",
    "%time list(filter(pass_grade_filter,my_list))"
   ]
  },
  {
   "cell_type": "code",
   "execution_count": 13,
   "id": "4d302991",
   "metadata": {},
   "outputs": [
    {
     "name": "stdout",
     "output_type": "stream",
     "text": [
      "Wall time: 0 ns\n"
     ]
    },
    {
     "data": {
      "text/plain": [
       "[70, 99]"
      ]
     },
     "execution_count": 13,
     "metadata": {},
     "output_type": "execute_result"
    }
   ],
   "source": [
    "my_list = [20,50,30,70,99]\n",
    "%time list(filter(lambda grade: grade > 50 ,my_list))"
   ]
  },
  {
   "cell_type": "markdown",
   "id": "74ebdb01",
   "metadata": {},
   "source": [
    "# heading1\n",
    "##heading 2\n",
    "### alkdsmlad\n",
    "<html>c\n",
    "    <body> <p><b>Arpit</b></p></body>    \n",
    "</html>\n"
   ]
  }
 ],
 "metadata": {
  "kernelspec": {
   "display_name": "Python 3 (ipykernel)",
   "language": "python",
   "name": "python3"
  },
  "language_info": {
   "codemirror_mode": {
    "name": "ipython",
    "version": 3
   },
   "file_extension": ".py",
   "mimetype": "text/x-python",
   "name": "python",
   "nbconvert_exporter": "python",
   "pygments_lexer": "ipython3",
   "version": "3.9.13"
  }
 },
 "nbformat": 4,
 "nbformat_minor": 5
}
