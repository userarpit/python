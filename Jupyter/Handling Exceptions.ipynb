{
 "cells": [
  {
   "cell_type": "code",
   "execution_count": 11,
   "id": "89562363",
   "metadata": {},
   "outputs": [
    {
     "name": "stdout",
     "output_type": "stream",
     "text": [
      "0.5\n",
      "Warning\n",
      "hello\n"
     ]
    }
   ],
   "source": [
    "def div(x , y):\n",
    "    try:\n",
    "        result = x/y\n",
    "    except:\n",
    "        result = \"Warning\"\n",
    "    return result\n",
    "\n",
    "print(div(1,2))\n",
    "print(div(1,0))\n",
    "print(\"hello\")"
   ]
  },
  {
   "cell_type": "code",
   "execution_count": 13,
   "id": "424e4d91",
   "metadata": {},
   "outputs": [
    {
     "name": "stdout",
     "output_type": "stream",
     "text": [
      "0.5\n",
      "Warning\n",
      "hello\n"
     ]
    }
   ],
   "source": [
    "def div(x , y):\n",
    "    try:\n",
    "        result = x/y\n",
    "    except:\n",
    "        result = \"Warning\"\n",
    "    return result\n",
    "\n",
    "print(div(1,2))\n",
    "print(div(1,\"a\"))\n",
    "print(\"hello\")"
   ]
  }
 ],
 "metadata": {
  "kernelspec": {
   "display_name": "Python 3 (ipykernel)",
   "language": "python",
   "name": "python3"
  },
  "language_info": {
   "codemirror_mode": {
    "name": "ipython",
    "version": 3
   },
   "file_extension": ".py",
   "mimetype": "text/x-python",
   "name": "python",
   "nbconvert_exporter": "python",
   "pygments_lexer": "ipython3",
   "version": "3.9.13"
  }
 },
 "nbformat": 4,
 "nbformat_minor": 5
}
