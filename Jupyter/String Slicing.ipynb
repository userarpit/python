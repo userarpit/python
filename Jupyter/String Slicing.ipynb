{
 "cells": [
  {
   "cell_type": "code",
   "execution_count": 3,
   "id": "9dbf866f",
   "metadata": {},
   "outputs": [
    {
     "name": "stdout",
     "output_type": "stream",
     "text": [
      "ahmed wael\n"
     ]
    }
   ],
   "source": [
    "first_str = \"ahmed wael is teaching programming\"\n",
    "print(first_str[0:10])"
   ]
  },
  {
   "cell_type": "code",
   "execution_count": 4,
   "id": "4f81e611",
   "metadata": {},
   "outputs": [
    {
     "name": "stdout",
     "output_type": "stream",
     "text": [
      "amdwe\n"
     ]
    }
   ],
   "source": [
    "first_str = \"ahmed wael is teaching programming\"\n",
    "print(first_str[0:10:2])"
   ]
  },
  {
   "cell_type": "code",
   "execution_count": 5,
   "id": "de2aa4e3",
   "metadata": {},
   "outputs": [
    {
     "name": "stdout",
     "output_type": "stream",
     "text": [
      "aewl\n"
     ]
    }
   ],
   "source": [
    "first_str = \"ahmed wael is teaching programming\"\n",
    "print(first_str[0:10:3])"
   ]
  },
  {
   "cell_type": "code",
   "execution_count": 10,
   "id": "763299a4",
   "metadata": {},
   "outputs": [
    {
     "name": "stdout",
     "output_type": "stream",
     "text": [
      "is\n"
     ]
    }
   ],
   "source": [
    "first_str = \"ahmed wael is teaching programming\"\n",
    "print(first_str[11:13])"
   ]
  },
  {
   "cell_type": "code",
   "execution_count": 12,
   "id": "c083c488",
   "metadata": {},
   "outputs": [
    {
     "name": "stdout",
     "output_type": "stream",
     "text": [
      "in\n"
     ]
    }
   ],
   "source": [
    "first_str = \"ahmed wael is teaching programming\"\n",
    "print(first_str[-3:-1])"
   ]
  },
  {
   "cell_type": "code",
   "execution_count": 15,
   "id": "e276deaa",
   "metadata": {},
   "outputs": [
    {
     "data": {
      "text/plain": [
       "0"
      ]
     },
     "execution_count": 15,
     "metadata": {},
     "output_type": "execute_result"
    }
   ],
   "source": [
    "first_str.count(\"a\")\n"
   ]
  },
  {
   "cell_type": "code",
   "execution_count": 19,
   "id": "71b1be6d",
   "metadata": {},
   "outputs": [
    {
     "name": "stdout",
     "output_type": "stream",
     "text": [
      "hme\n"
     ]
    }
   ],
   "source": [
    "start_idx = first_str.find(\"h\")\n",
    "print(first_str [ start_idx : start_idx + 3])"
   ]
  },
  {
   "cell_type": "code",
   "execution_count": null,
   "id": "d5902ec7",
   "metadata": {},
   "outputs": [],
   "source": []
  }
 ],
 "metadata": {
  "kernelspec": {
   "display_name": "Python 3 (ipykernel)",
   "language": "python",
   "name": "python3"
  },
  "language_info": {
   "codemirror_mode": {
    "name": "ipython",
    "version": 3
   },
   "file_extension": ".py",
   "mimetype": "text/x-python",
   "name": "python",
   "nbconvert_exporter": "python",
   "pygments_lexer": "ipython3",
   "version": "3.9.13"
  }
 },
 "nbformat": 4,
 "nbformat_minor": 5
}
