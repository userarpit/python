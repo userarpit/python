{
 "cells": [
  {
   "cell_type": "code",
   "execution_count": 3,
   "id": "b799cb41",
   "metadata": {},
   "outputs": [
    {
     "name": "stdout",
     "output_type": "stream",
     "text": [
      "9\n",
      "4\n",
      "3.4\n",
      "13.4\n",
      "0.007\n",
      "ar\\npit\n",
      "<class 'str'>\n",
      "i'am a programmer\n"
     ]
    },
    {
     "data": {
      "text/plain": [
       "17"
      ]
     },
     "execution_count": 3,
     "metadata": {},
     "output_type": "execute_result"
    }
   ],
   "source": [
    "x = 1\n",
    "y = 1\n",
    "\n",
    "z = 1\n",
    "b = 1 \\\n",
    "+ 2\n",
    "\n",
    "char_x = 4 ; y = 1 ; z = x + y\n",
    "summing = 1 + 2 # this line sums 2 numbers\n",
    "\n",
    "# this is comment line\n",
    "\n",
    "\"\"\" \n",
    "this is first commented line\n",
    "this is second commented line\n",
    "lkad\n",
    "\"\"\"\n",
    "print(4+5)\n",
    "print(char_x)\n",
    "type(char_x)\n",
    "a = 3.4\n",
    "print(a)\n",
    "print(a+10)\n",
    "b = 7e-3\n",
    "print(b)\n",
    "type(b)\n",
    "str1 = r\"\"\"ar\\npit\"\"\"\n",
    "\"\"\" khandelwal\"\"\"\n",
    "print(str1)\n",
    "print(type(str1))\n",
    "str2 = \"i'am a programmer\"\n",
    "print(str2)\n",
    "str3 =  \"am1\"\n",
    "str3 in str2\n",
    "len(str2)"
   ]
  },
  {
   "cell_type": "code",
   "execution_count": null,
   "id": "5901aaa8",
   "metadata": {},
   "outputs": [],
   "source": []
  }
 ],
 "metadata": {
  "kernelspec": {
   "display_name": "Python 3 (ipykernel)",
   "language": "python",
   "name": "python3"
  },
  "language_info": {
   "codemirror_mode": {
    "name": "ipython",
    "version": 3
   },
   "file_extension": ".py",
   "mimetype": "text/x-python",
   "name": "python",
   "nbconvert_exporter": "python",
   "pygments_lexer": "ipython3",
   "version": "3.9.13"
  }
 },
 "nbformat": 4,
 "nbformat_minor": 5
}
