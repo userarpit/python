{
 "cells": [
  {
   "cell_type": "code",
   "execution_count": 31,
   "id": "1085b021",
   "metadata": {},
   "outputs": [
    {
     "name": "stdout",
     "output_type": "stream",
     "text": [
      "15\n"
     ]
    },
    {
     "ename": "NameError",
     "evalue": "name 'sum1' is not defined",
     "output_type": "error",
     "traceback": [
      "\u001b[1;31m---------------------------------------------------------------------------\u001b[0m",
      "\u001b[1;31mNameError\u001b[0m                                 Traceback (most recent call last)",
      "\u001b[1;32m~\\AppData\\Local\\Temp\\ipykernel_28232\\164654715.py\u001b[0m in \u001b[0;36m<module>\u001b[1;34m\u001b[0m\n\u001b[0;32m      4\u001b[0m \u001b[1;33m\u001b[0m\u001b[0m\n\u001b[0;32m      5\u001b[0m \u001b[0mprint\u001b[0m\u001b[1;33m(\u001b[0m\u001b[0mmultiply\u001b[0m\u001b[1;33m(\u001b[0m\u001b[1;36m5\u001b[0m\u001b[1;33m)\u001b[0m\u001b[1;33m)\u001b[0m\u001b[1;33m\u001b[0m\u001b[1;33m\u001b[0m\u001b[0m\n\u001b[1;32m----> 6\u001b[1;33m \u001b[0mprint\u001b[0m\u001b[1;33m(\u001b[0m\u001b[0msum1\u001b[0m\u001b[1;33m)\u001b[0m\u001b[1;33m\u001b[0m\u001b[1;33m\u001b[0m\u001b[0m\n\u001b[0m",
      "\u001b[1;31mNameError\u001b[0m: name 'sum1' is not defined"
     ]
    }
   ],
   "source": [
    "def multiply(first_num , second_num=3):\n",
    "    sum1 = first_num * second_num\n",
    "    return sum1\n",
    "\n",
    "print(multiply(5))\n",
    "print(sum1)"
   ]
  },
  {
   "cell_type": "code",
   "execution_count": 37,
   "id": "c12afb3a",
   "metadata": {},
   "outputs": [
    {
     "name": "stdout",
     "output_type": "stream",
     "text": [
      "15\n",
      "15\n"
     ]
    }
   ],
   "source": [
    "def multiply(first_num , second_num=3):\n",
    "    sum2 = first_num * second_num\n",
    "    print(sum2)\n",
    "    return sum2\n",
    "\n",
    "print(multiply(5))"
   ]
  },
  {
   "cell_type": "code",
   "execution_count": 38,
   "id": "37e21b1b",
   "metadata": {},
   "outputs": [
    {
     "name": "stdout",
     "output_type": "stream",
     "text": [
      "15\n",
      "15\n",
      "15\n"
     ]
    }
   ],
   "source": [
    "def multiply(first_num , second_num=3):\n",
    "    global sum2\n",
    "    sum2 = first_num * second_num\n",
    "    print(sum2)\n",
    "    return sum2\n",
    "\n",
    "print(multiply(5))\n",
    "print(sum2)"
   ]
  },
  {
   "cell_type": "code",
   "execution_count": 40,
   "id": "58233783",
   "metadata": {},
   "outputs": [
    {
     "name": "stdout",
     "output_type": "stream",
     "text": [
      "15\n",
      "15\n"
     ]
    }
   ],
   "source": [
    "global sum2\n",
    "def multiply(first_num , second_num=3): # function\n",
    "    sum2 = first_num * second_num\n",
    "    return sum2\n",
    "\n",
    "print(multiply(5))\n",
    "print(sum2)"
   ]
  },
  {
   "cell_type": "code",
   "execution_count": 43,
   "id": "1020392a",
   "metadata": {},
   "outputs": [
    {
     "name": "stdout",
     "output_type": "stream",
     "text": [
      "15\n",
      "15\n",
      "Help on function multiply in module __main__:\n",
      "\n",
      "multiply(first_num, second_num=3)\n",
      "    Multiple 2 numbers; numbers are passed as input\n",
      "    Output is the multiplication\n",
      "\n",
      "'\\n    Multiple 2 numbers; numbers are passed as input\\n    Output is the multiplication\\n    '\n"
     ]
    }
   ],
   "source": [
    "global sum2\n",
    "def multiply(first_num , second_num=3): # function\n",
    "    '''\n",
    "    Multiple 2 numbers; numbers are passed as input\n",
    "    Output is the multiplication\n",
    "    '''\n",
    "    sum2 = first_num * second_num\n",
    "    return sum2\n",
    "\n",
    "print(multiply(5))\n",
    "print(sum2)\n",
    "help(multiply)\n",
    "print(repr(multiply.__doc__))"
   ]
  },
  {
   "cell_type": "code",
   "execution_count": null,
   "id": "07ca96d6",
   "metadata": {},
   "outputs": [],
   "source": []
  }
 ],
 "metadata": {
  "kernelspec": {
   "display_name": "Python 3 (ipykernel)",
   "language": "python",
   "name": "python3"
  },
  "language_info": {
   "codemirror_mode": {
    "name": "ipython",
    "version": 3
   },
   "file_extension": ".py",
   "mimetype": "text/x-python",
   "name": "python",
   "nbconvert_exporter": "python",
   "pygments_lexer": "ipython3",
   "version": "3.9.13"
  }
 },
 "nbformat": 4,
 "nbformat_minor": 5
}
