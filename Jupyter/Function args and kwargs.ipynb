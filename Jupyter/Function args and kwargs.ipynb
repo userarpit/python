{
 "cells": [
  {
   "cell_type": "code",
   "execution_count": 2,
   "id": "f2ef41fa",
   "metadata": {},
   "outputs": [
    {
     "name": "stdout",
     "output_type": "stream",
     "text": [
      "1\n",
      "2\n",
      "5\n",
      "1\n"
     ]
    }
   ],
   "source": [
    "def print_input(*args):\n",
    "    for i in args:\n",
    "        print(i)\n",
    "\n",
    "print_input(1,2,5,1)"
   ]
  },
  {
   "cell_type": "code",
   "execution_count": 3,
   "id": "fbc346fc",
   "metadata": {},
   "outputs": [
    {
     "name": "stdout",
     "output_type": "stream",
     "text": [
      "1\n",
      "5\n",
      "1\n"
     ]
    }
   ],
   "source": [
    "def print_input(*args):\n",
    "    for i in args:\n",
    "        print(i)\n",
    "\n",
    "print_input(1,5,1)"
   ]
  },
  {
   "cell_type": "code",
   "execution_count": 4,
   "id": "f9e369a1",
   "metadata": {},
   "outputs": [
    {
     "name": "stdout",
     "output_type": "stream",
     "text": [
      "x Ahmed\n",
      "y Wael\n"
     ]
    }
   ],
   "source": [
    "def print_input(**k):\n",
    "    for key,value in zip(k.keys(),k.values()):\n",
    "        print(key,value)\n",
    "\n",
    "print_input(x=\"Ahmed\",y=\"Wael\")"
   ]
  },
  {
   "cell_type": "code",
   "execution_count": 12,
   "id": "cdff046f",
   "metadata": {},
   "outputs": [
    {
     "name": "stdout",
     "output_type": "stream",
     "text": [
      "1\n",
      "2\n",
      "(3, 4, 1, 5)\n"
     ]
    }
   ],
   "source": [
    "def print_input1(x,y=1,*z):\n",
    "    print(x)\n",
    "    print(y)\n",
    "    print(z)\n",
    "\n",
    "print_input1(1,2,3,4,1,5)"
   ]
  },
  {
   "cell_type": "code",
   "execution_count": 21,
   "id": "6d7d2b9c",
   "metadata": {},
   "outputs": [
    {
     "name": "stdout",
     "output_type": "stream",
     "text": [
      "1\n",
      "5\n",
      "(3,)\n"
     ]
    }
   ],
   "source": [
    "def print_input1(x,y=4,*z):\n",
    "    print(x)\n",
    "    print(y)\n",
    "    print(z)\n",
    "\n",
    "print_input1(1,5,3)"
   ]
  }
 ],
 "metadata": {
  "kernelspec": {
   "display_name": "Python 3 (ipykernel)",
   "language": "python",
   "name": "python3"
  },
  "language_info": {
   "codemirror_mode": {
    "name": "ipython",
    "version": 3
   },
   "file_extension": ".py",
   "mimetype": "text/x-python",
   "name": "python",
   "nbconvert_exporter": "python",
   "pygments_lexer": "ipython3",
   "version": "3.9.13"
  }
 },
 "nbformat": 4,
 "nbformat_minor": 5
}
